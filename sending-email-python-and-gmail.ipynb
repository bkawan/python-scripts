{
 "cells": [
  {
   "cell_type": "markdown",
   "metadata": {},
   "source": [
    "- @author bkawan\n",
    "- @date 19 May 2016"
   ]
  },
  {
   "cell_type": "markdown",
   "metadata": {},
   "source": [
    "## Sending email using google and python"
   ]
  },
  {
   "cell_type": "code",
   "execution_count": 2,
   "metadata": {
    "collapsed": false
   },
   "outputs": [
    {
     "name": "stdout",
     "output_type": "stream",
     "text": [
      "email sent\n"
     ]
    },
    {
     "data": {
      "text/plain": [
       "(221, b'2.0.0 closing connection ry2sm20843698pac.9 - gsmtp')"
      ]
     },
     "execution_count": 2,
     "metadata": {},
     "output_type": "execute_result"
    }
   ],
   "source": [
    "import smtplib\n",
    "from email.header import Header\n",
    "from email.utils import formataddr\n",
    "\n",
    "\n",
    "\n",
    "TO = 'someemail@gmail.com'\n",
    "SUBJECT = 'TEST MAIL'\n",
    "TEXT = 'This is email test from python'\n",
    "\n",
    "\n",
    "\n",
    "# Gmail Sign In\n",
    "gmail_sender = 'youremail@gmail.com'\n",
    "gmail_passwd = 'yourpassword'\n",
    "\n",
    "author = formataddr((str(Header(u'your name', 'utf-8')), \"youremail@gmail.com\"))\n",
    "\n",
    "\n",
    "\n",
    "\n",
    "server = smtplib.SMTP('smtp.gmail.com', 587)\n",
    "server.ehlo()\n",
    "server.starttls()\n",
    "server.login(gmail_sender, gmail_passwd)\n",
    "BODY = '\\r\\n'.join(['To: %s' % TO,\n",
    "                    'From: %s' % author,\n",
    "                    'Subject: %s' % SUBJECT,\n",
    "                    '', TEXT])\n",
    "\n",
    "try:\n",
    "    server.sendmail(gmail_sender, [TO], BODY)\n",
    "    print ('email sent')\n",
    "except:\n",
    "    print ('error sending mail')\n",
    "\n",
    "server.quit()"
   ]
  }
 ],
 "metadata": {
  "kernelspec": {
   "display_name": "Python 3",
   "language": "python",
   "name": "python3"
  },
  "language_info": {
   "codemirror_mode": {
    "name": "ipython",
    "version": 3
   },
   "file_extension": ".py",
   "mimetype": "text/x-python",
   "name": "python",
   "nbconvert_exporter": "python",
   "pygments_lexer": "ipython3",
   "version": "3.5.1"
  }
 },
 "nbformat": 4,
 "nbformat_minor": 0
}
